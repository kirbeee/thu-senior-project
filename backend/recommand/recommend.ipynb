{
 "cells": [
  {
   "cell_type": "code",
   "metadata": {
    "ExecuteTime": {
     "end_time": "2025-03-24T12:13:42.503556Z",
     "start_time": "2025-03-24T12:13:42.490106Z"
    }
   },
   "source": [
    "import pandas as pd\n",
    "import numpy as np\n",
    "import jieba\n",
    "import ipywidgets as widgets\n",
    "from IPython.display import display, clear_output\n",
    "from sklearn.feature_extraction.text import TfidfVectorizer\n",
    "from sklearn.metrics.pairwise import cosine_similarity\n"
   ],
   "outputs": [],
   "execution_count": 4
  },
  {
   "cell_type": "code",
   "metadata": {
    "ExecuteTime": {
     "end_time": "2025-03-24T12:13:42.574032Z",
     "start_time": "2025-03-24T12:13:42.519934Z"
    }
   },
   "source": [
    "df = pd.read_csv(\"course_data.csv\")\n",
    "print(\"課程資料預覽:\")\n",
    "display(df.head())\n",
    "\n",
    "# 補缺失值\n",
    "for col in ['課程名稱', '課程概述']:\n",
    "    if col in df.columns:\n",
    "        df[col] = df[col].fillna(\"\")\n",
    "    else:\n",
    "        raise ValueError(f\"找不到 '{col}' 欄位，請檢查 CSV 格式。\")\n",
    "\n",
    "# 將課程名稱與描述合併\n",
    "df['combined_text'] = df['課程名稱'] + \" \" + df['課程概述']\n"
   ],
   "outputs": [
    {
     "name": "stdout",
     "output_type": "stream",
     "text": [
      "課程資料預覽:\n"
     ]
    },
    {
     "data": {
      "text/plain": [
       "   課程代碼       系所名稱        課程名稱 授課教師 課程類型  學分數   上課地點  \\\n",
       "0  3001  通識課程:人文領域  人文：生命美學─藝術  王雪萍  必修課  0-2    芳華廳   \n",
       "1  3002  通識課程:人文領域  人文：生命美學─藝術  蔡永凱  必修課  0-2    芳華廳   \n",
       "2  3003  通識課程:人文領域  人文：生命美學─藝術  林彥良  必修課  0-2   H207   \n",
       "3  3004  通識課程:人文領域  人文：生命美學─藝術  沈裕昌  必修課  0-2  HT101   \n",
       "4  3005  通識課程:人文領域  人文：生命美學─藝術  張文鴻  必修課  0-2   C106   \n",
       "\n",
       "                                                課程概述 Unnamed: 8  \n",
       "0  人文領域的課程目標在於啟發學生美的鑑賞與願意為善的藝術涵養，本課程將透過西洋古典音樂來達成此...        NaN  \n",
       "1  本課程前身為「人文：悠遊聲樂與鋼琴的世界」，訴求藉由古典音樂之欣賞，探索以下議題：\\r\\n1...        NaN  \n",
       "2  從美的探討與藝術的起源開始，到八大藝術以及東西洋美術作品的介紹與欣賞，運用ＰＰＴ檔與相關複製...        NaN  \n",
       "3  本課程將帶領修課同學觀賞日本、韓國、越南、泰國等亞洲諸國電影導演的經典作品，並與台灣電影進行...        NaN  \n",
       "4  (一)人文:生命美學的課程目標在於啟迪學生美的鑑賞與願意為善的藝術涵養。\\r\\n(二)生命繪...        NaN  "
      ],
      "text/html": [
       "<div>\n",
       "<style scoped>\n",
       "    .dataframe tbody tr th:only-of-type {\n",
       "        vertical-align: middle;\n",
       "    }\n",
       "\n",
       "    .dataframe tbody tr th {\n",
       "        vertical-align: top;\n",
       "    }\n",
       "\n",
       "    .dataframe thead th {\n",
       "        text-align: right;\n",
       "    }\n",
       "</style>\n",
       "<table border=\"1\" class=\"dataframe\">\n",
       "  <thead>\n",
       "    <tr style=\"text-align: right;\">\n",
       "      <th></th>\n",
       "      <th>課程代碼</th>\n",
       "      <th>系所名稱</th>\n",
       "      <th>課程名稱</th>\n",
       "      <th>授課教師</th>\n",
       "      <th>課程類型</th>\n",
       "      <th>學分數</th>\n",
       "      <th>上課地點</th>\n",
       "      <th>課程概述</th>\n",
       "      <th>Unnamed: 8</th>\n",
       "    </tr>\n",
       "  </thead>\n",
       "  <tbody>\n",
       "    <tr>\n",
       "      <th>0</th>\n",
       "      <td>3001</td>\n",
       "      <td>通識課程:人文領域</td>\n",
       "      <td>人文：生命美學─藝術</td>\n",
       "      <td>王雪萍</td>\n",
       "      <td>必修課</td>\n",
       "      <td>0-2</td>\n",
       "      <td>芳華廳</td>\n",
       "      <td>人文領域的課程目標在於啟發學生美的鑑賞與願意為善的藝術涵養，本課程將透過西洋古典音樂來達成此...</td>\n",
       "      <td>NaN</td>\n",
       "    </tr>\n",
       "    <tr>\n",
       "      <th>1</th>\n",
       "      <td>3002</td>\n",
       "      <td>通識課程:人文領域</td>\n",
       "      <td>人文：生命美學─藝術</td>\n",
       "      <td>蔡永凱</td>\n",
       "      <td>必修課</td>\n",
       "      <td>0-2</td>\n",
       "      <td>芳華廳</td>\n",
       "      <td>本課程前身為「人文：悠遊聲樂與鋼琴的世界」，訴求藉由古典音樂之欣賞，探索以下議題：\\r\\n1...</td>\n",
       "      <td>NaN</td>\n",
       "    </tr>\n",
       "    <tr>\n",
       "      <th>2</th>\n",
       "      <td>3003</td>\n",
       "      <td>通識課程:人文領域</td>\n",
       "      <td>人文：生命美學─藝術</td>\n",
       "      <td>林彥良</td>\n",
       "      <td>必修課</td>\n",
       "      <td>0-2</td>\n",
       "      <td>H207</td>\n",
       "      <td>從美的探討與藝術的起源開始，到八大藝術以及東西洋美術作品的介紹與欣賞，運用ＰＰＴ檔與相關複製...</td>\n",
       "      <td>NaN</td>\n",
       "    </tr>\n",
       "    <tr>\n",
       "      <th>3</th>\n",
       "      <td>3004</td>\n",
       "      <td>通識課程:人文領域</td>\n",
       "      <td>人文：生命美學─藝術</td>\n",
       "      <td>沈裕昌</td>\n",
       "      <td>必修課</td>\n",
       "      <td>0-2</td>\n",
       "      <td>HT101</td>\n",
       "      <td>本課程將帶領修課同學觀賞日本、韓國、越南、泰國等亞洲諸國電影導演的經典作品，並與台灣電影進行...</td>\n",
       "      <td>NaN</td>\n",
       "    </tr>\n",
       "    <tr>\n",
       "      <th>4</th>\n",
       "      <td>3005</td>\n",
       "      <td>通識課程:人文領域</td>\n",
       "      <td>人文：生命美學─藝術</td>\n",
       "      <td>張文鴻</td>\n",
       "      <td>必修課</td>\n",
       "      <td>0-2</td>\n",
       "      <td>C106</td>\n",
       "      <td>(一)人文:生命美學的課程目標在於啟迪學生美的鑑賞與願意為善的藝術涵養。\\r\\n(二)生命繪...</td>\n",
       "      <td>NaN</td>\n",
       "    </tr>\n",
       "  </tbody>\n",
       "</table>\n",
       "</div>"
      ]
     },
     "metadata": {},
     "output_type": "display_data"
    }
   ],
   "execution_count": 5
  },
  {
   "cell_type": "code",
   "metadata": {
    "ExecuteTime": {
     "end_time": "2025-03-24T12:13:44.484530Z",
     "start_time": "2025-03-24T12:13:42.733844Z"
    }
   },
   "source": [
    "def chinese_tokenizer(text):\n",
    "    return list(jieba.cut(text))\n",
    "\n",
    "df['combined_text'] = df['combined_text'].apply(lambda x: \" \".join(chinese_tokenizer(x)))\n",
    "print(\"斷詞後文本預覽:\")\n",
    "display(df['combined_text'].head())\n"
   ],
   "outputs": [
    {
     "name": "stderr",
     "output_type": "stream",
     "text": [
      "Building prefix dict from the default dictionary ...\n",
      "Dumping model to file cache /var/folders/dv/mvx0p9tn1bv13m957fnhyynw0000gn/T/jieba.cache\n",
      "Loading model cost 0.784 seconds.\n",
      "Prefix dict has been built successfully.\n"
     ]
    },
    {
     "name": "stdout",
     "output_type": "stream",
     "text": [
      "斷詞後文本預覽:\n"
     ]
    },
    {
     "data": {
      "text/plain": [
       "0    人文 ： 生命 美學 ─ 藝術   人文 領域 的 課程 目標 在 於 啟發學生 美的 鑑賞...\n",
       "1    人文 ： 生命 美學 ─ 藝術   本 課程 前身 為 「 人文 ： 悠遊 聲樂 與 鋼琴 ...\n",
       "2    人文 ： 生命 美學 ─ 藝術   從 美的 探討 與 藝術 的 起源 開始 ， 到 八大 ...\n",
       "3    人文 ： 生命 美學 ─ 藝術   本 課程 將帶 領修 課同學 觀賞 日本 、 韓國 、 ...\n",
       "4    人文 ： 生命 美學 ─ 藝術   ( 一 ) 人文 : 生命 美學 的 課程 目標 在 於...\n",
       "Name: combined_text, dtype: object"
      ]
     },
     "metadata": {},
     "output_type": "display_data"
    }
   ],
   "execution_count": 6
  },
  {
   "cell_type": "code",
   "metadata": {
    "ExecuteTime": {
     "end_time": "2025-03-24T12:13:44.582215Z",
     "start_time": "2025-03-24T12:13:44.512356Z"
    }
   },
   "source": [
    "vectorizer = TfidfVectorizer(token_pattern=r\"(?u)\\b\\w+\\b\")\n",
    "tfidf_matrix = vectorizer.fit_transform(df['combined_text'])\n",
    "print(\"TF-IDF 矩陣形狀:\", tfidf_matrix.shape)\n"
   ],
   "outputs": [
    {
     "name": "stdout",
     "output_type": "stream",
     "text": [
      "TF-IDF 矩陣形狀: (694, 8697)\n"
     ]
    }
   ],
   "execution_count": 7
  },
  {
   "cell_type": "code",
   "metadata": {
    "ExecuteTime": {
     "end_time": "2025-03-24T12:13:44.607628Z",
     "start_time": "2025-03-24T12:13:44.604071Z"
    }
   },
   "source": [
    "tf_idf_weights = np.ones(len(df))  # 初始權重為 1.0\n",
    "ratings = {}  # 存儲課程評分\n",
    "\n",
    "def recommend_courses(query, top_n=5):\n",
    "    query_processed = \" \".join(chinese_tokenizer(query))\n",
    "    query_vec = vectorizer.transform([query_processed])\n",
    "    cosine_sim = cosine_similarity(query_vec, tfidf_matrix).flatten()\n",
    "    weighted_sim = cosine_sim * tf_idf_weights  # 根據評分調整權重\n",
    "    top_indices = weighted_sim.argsort()[::-1][:top_n]\n",
    "    recommendations = df.iloc[top_indices].copy()\n",
    "    recommendations['similarity'] = weighted_sim[top_indices]\n",
    "    return recommendations[['課程代碼','課程名稱', '課程概述', 'similarity']]\n"
   ],
   "outputs": [],
   "execution_count": 8
  },
  {
   "cell_type": "code",
   "metadata": {
    "ExecuteTime": {
     "end_time": "2025-03-24T12:13:44.638949Z",
     "start_time": "2025-03-24T12:13:44.632748Z"
    }
   },
   "source": [
    "# 互動式查詢\n",
    "query_text = widgets.Text(\n",
    "    value='請推薦排球課程給我',\n",
    "    placeholder='在此輸入查詢...',\n",
    "    description='查詢:',\n",
    "    disabled=False\n",
    ")\n",
    "search_button = widgets.Button(description='查詢')\n",
    "output_area = widgets.Output()\n"
   ],
   "outputs": [],
   "execution_count": 9
  },
  {
   "cell_type": "code",
   "metadata": {
    "ExecuteTime": {
     "end_time": "2025-03-24T12:13:44.674549Z",
     "start_time": "2025-03-24T12:13:44.669264Z"
    }
   },
   "source": [
    "def recommend_courses(query, top_n=5):\n",
    "    query_processed = \" \".join(chinese_tokenizer(query))\n",
    "    query_vec = vectorizer.transform([query_processed])\n",
    "    cosine_sim = cosine_similarity(query_vec, tfidf_matrix).flatten()\n",
    "    weighted_sim = cosine_sim * tf_idf_weights  # 使用權重調整相似度\n",
    "    top_indices = weighted_sim.argsort()[::-1][:top_n]\n",
    "    recommendations = df.iloc[top_indices].copy()\n",
    "    recommendations['similarity'] = weighted_sim[top_indices]\n",
    "    recommendations['index'] = top_indices  # 保留原始索引以利後續更新權重\n",
    "    return recommendations[['index','課程代碼','課程名稱', '課程概述', 'similarity']]\n",
    "\n",
    "def get_rating_widget(course_index):\n",
    "    rating_widget = widgets.Dropdown(\n",
    "        options=[(str(i), i) for i in range(1, 6)],\n",
    "        description=f'課程 {course_index+1} 評分:',\n",
    "        disabled=False\n",
    "    )\n",
    "    return rating_widget\n",
    "\n",
    "rating_widgets = []\n",
    "\n",
    "\n",
    "def on_search_button_clicked(b):\n",
    "    with output_area:\n",
    "        clear_output()\n",
    "        query = query_text.value\n",
    "        print(f\"查詢內容: {query}\\n\")\n",
    "        results = recommend_courses(query, top_n=5)\n",
    "        if results.empty:\n",
    "            print(\"找不到符合的課程。\")\n",
    "        else:\n",
    "            print(\"推薦結果:\")\n",
    "            display(results)\n",
    "            global rating_widgets\n",
    "            rating_widgets = [get_rating_widget(i) for i in range(len(results))]\n",
    "            display(*rating_widgets, rate_button)\n",
    "\n",
    "search_button.on_click(on_search_button_clicked)\n"
   ],
   "outputs": [],
   "execution_count": 10
  },
  {
   "cell_type": "code",
   "metadata": {
    "ExecuteTime": {
     "end_time": "2025-03-24T12:13:44.711086Z",
     "start_time": "2025-03-24T12:13:44.697616Z"
    }
   },
   "source": [
    "query_text = widgets.Text(\n",
    "    value='請推薦排球課程給我',\n",
    "    placeholder='在此輸入查詢...',\n",
    "    description='查詢:',\n",
    "    disabled=False\n",
    ")\n",
    "search_button = widgets.Button(description='查詢')\n",
    "output_area = widgets.Output()\n",
    "\n",
    "# 評分按鈕\n",
    "rate_button = widgets.Button(description='提交評分')\n",
    "\n",
    "# 用來存放每筆推薦結果的評分 widget\n",
    "rating_widgets = {}\n",
    "\n",
    "def display_recommendations_with_rating(results):\n",
    "    # 依每筆推薦結果建立一個水平容器(HBox)，包含課程資訊與評分框\n",
    "    rows = []\n",
    "    for idx, row in results.iterrows():\n",
    "        # 建立評分下拉選單\n",
    "        rating_widget = widgets.Dropdown(\n",
    "            options=[(str(i), i) for i in range(1, 6)],\n",
    "            description='評分:',\n",
    "            value=5  # 預設給最高評分，也可調整預設值\n",
    "        )\n",
    "        rating_widgets[int(row['index'])] = rating_widget\n",
    "        # 建立課程資訊文字\n",
    "        course_info = f\"{row['課程代碼']} | {row['課程名稱']} |  {row['課程概述']} | 相似度: {row['similarity']:.4f}\"\n",
    "        info_widget = widgets.Label(value=course_info)\n",
    "        # 將課程資訊與評分 widget 放在同一行\n",
    "        row_box = widgets.HBox([info_widget, rating_widget])\n",
    "        rows.append(row_box)\n",
    "    display(*rows, rate_button)\n",
    "\n",
    "def on_search_button_clicked(b):\n",
    "    with output_area:\n",
    "        clear_output()\n",
    "        query = query_text.value\n",
    "        print(f\"查詢內容: {query}\\\\n\")\n",
    "        results = recommend_courses(query, top_n=5)\n",
    "        if results.empty:\n",
    "            print(\"找不到符合的課程。\")\n",
    "        else:\n",
    "            print(\"推薦結果：\")\n",
    "            display_recommendations_with_rating(results)\n",
    "\n",
    "def on_rate_button_clicked(b):\n",
    "    global ratings, tf_idf_weights\n",
    "    # 根據評分 widget 的值更新評分與權重\n",
    "    for idx, widget_item in rating_widgets.items():\n",
    "        score = widget_item.value\n",
    "        course_name = df.iloc[idx]['課程名稱']\n",
    "        ratings[course_name] = score\n",
    "        # 更新該筆資料的權重：權重 = 1 + (評分 / 5)\n",
    "        tf_idf_weights[idx] = 1 + (score / 5)\n",
    "    with output_area:\n",
    "        print(\"評分已提交，系統將根據評分優化推薦結果！\")\n",
    "\n",
    "search_button.on_click(on_search_button_clicked)\n",
    "rate_button.on_click(on_rate_button_clicked)\n",
    "\n",
    "# 顯示查詢介面\n",
    "display(query_text, search_button, output_area)"
   ],
   "outputs": [
    {
     "data": {
      "text/plain": [
       "Text(value='請推薦排球課程給我', description='查詢:', placeholder='在此輸入查詢...')"
      ],
      "application/vnd.jupyter.widget-view+json": {
       "version_major": 2,
       "version_minor": 0,
       "model_id": "0eef9d6dc1be4cd083b93cb03cb702b1"
      }
     },
     "metadata": {},
     "output_type": "display_data"
    },
    {
     "data": {
      "text/plain": [
       "Button(description='查詢', style=ButtonStyle())"
      ],
      "application/vnd.jupyter.widget-view+json": {
       "version_major": 2,
       "version_minor": 0,
       "model_id": "7216d411ad514238923afabfb5289e29"
      }
     },
     "metadata": {},
     "output_type": "display_data"
    },
    {
     "data": {
      "text/plain": [
       "Output()"
      ],
      "application/vnd.jupyter.widget-view+json": {
       "version_major": 2,
       "version_minor": 0,
       "model_id": "2bacc38ca76847a9a33edf099939754b"
      }
     },
     "metadata": {},
     "output_type": "display_data"
    }
   ],
   "execution_count": 11
  },
  {
   "cell_type": "markdown",
   "metadata": {},
   "source": [
    "如果你不需要評分 可以看這下面的程式"
   ]
  },
  {
   "cell_type": "code",
   "metadata": {
    "ExecuteTime": {
     "end_time": "2025-03-24T12:13:44.755795Z",
     "start_time": "2025-03-24T12:13:44.749678Z"
    }
   },
   "source": [
    "def on_search_button_clicked(b):\n",
    "    with output_area:\n",
    "        clear_output()  # 清除上一次的輸出\n",
    "        query = query_text.value\n",
    "        print(f\"查詢內容: {query}\\n\")\n",
    "        results = recommend_courses(query, top_n=5)\n",
    "        if results.empty:\n",
    "            print(\"找不到符合的課程。\")\n",
    "        else:\n",
    "            print(\"推薦結果:\")\n",
    "            display(results)\n",
    "\n",
    "search_button.on_click(on_search_button_clicked)\n",
    "\n",
    "# 顯示互動介面\n",
    "display(query_text, search_button, output_area)\n"
   ],
   "outputs": [
    {
     "data": {
      "text/plain": [
       "Text(value='請推薦排球課程給我', description='查詢:', placeholder='在此輸入查詢...')"
      ],
      "application/vnd.jupyter.widget-view+json": {
       "version_major": 2,
       "version_minor": 0,
       "model_id": "0eef9d6dc1be4cd083b93cb03cb702b1"
      }
     },
     "metadata": {},
     "output_type": "display_data"
    },
    {
     "data": {
      "text/plain": [
       "Button(description='查詢', style=ButtonStyle())"
      ],
      "application/vnd.jupyter.widget-view+json": {
       "version_major": 2,
       "version_minor": 0,
       "model_id": "7216d411ad514238923afabfb5289e29"
      }
     },
     "metadata": {},
     "output_type": "display_data"
    },
    {
     "data": {
      "text/plain": [
       "Output()"
      ],
      "application/vnd.jupyter.widget-view+json": {
       "version_major": 2,
       "version_minor": 0,
       "model_id": "2bacc38ca76847a9a33edf099939754b"
      }
     },
     "metadata": {},
     "output_type": "display_data"
    }
   ],
   "execution_count": 12
  }
 ],
 "metadata": {
  "kernelspec": {
   "display_name": "Python 3",
   "language": "python",
   "name": "python3"
  },
  "language_info": {
   "codemirror_mode": {
    "name": "ipython",
    "version": 3
   },
   "file_extension": ".py",
   "mimetype": "text/x-python",
   "name": "python",
   "nbconvert_exporter": "python",
   "pygments_lexer": "ipython3",
   "version": "3.13.1"
  }
 },
 "nbformat": 4,
 "nbformat_minor": 2
}
